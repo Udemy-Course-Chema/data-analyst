{
 "cells": [
  {
   "cell_type": "markdown",
   "id": "fd13c4db",
   "metadata": {},
   "source": [
    "# Excel With Python"
   ]
  },
  {
   "cell_type": "markdown",
   "id": "7412676c",
   "metadata": {},
   "source": [
    "Installation:\n",
    "1. pip install xlrd\n",
    "2. pip install openpyxl\n",
    "\n",
    "No tengo windows"
   ]
  },
  {
   "cell_type": "code",
   "execution_count": 1,
   "id": "8630f415",
   "metadata": {},
   "outputs": [],
   "source": [
    "import pandas as pd"
   ]
  },
  {
   "cell_type": "markdown",
   "id": "68b6d7e3",
   "metadata": {},
   "source": [
    "xlsfile = pd.ExcelFile('archivoDelExcel')\n",
    "\n",
    "\n",
    "dframe = xlsfile.parse(\"Sheet1\") # Hoja en que se encuentra en la parte inferior"
   ]
  },
  {
   "cell_type": "code",
   "execution_count": null,
   "id": "8e620a67",
   "metadata": {},
   "outputs": [],
   "source": []
  }
 ],
 "metadata": {
  "kernelspec": {
   "display_name": "DataAnalystByJosePortilla",
   "language": "python",
   "name": "python3"
  },
  "language_info": {
   "codemirror_mode": {
    "name": "ipython",
    "version": 3
   },
   "file_extension": ".py",
   "mimetype": "text/x-python",
   "name": "python",
   "nbconvert_exporter": "python",
   "pygments_lexer": "ipython3",
   "version": "3.11.0"
  },
  "vscode": {
   "interpreter": {
    "hash": "53f4312468d2ae6e3ddf3b9e0f52f9fed925e7422b9dff2cb33b390fa7eac90b"
   }
  }
 },
 "nbformat": 4,
 "nbformat_minor": 5
}
