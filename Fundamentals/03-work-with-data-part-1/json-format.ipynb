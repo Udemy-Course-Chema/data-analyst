{
 "cells": [
  {
   "cell_type": "markdown",
   "id": "8a93430e",
   "metadata": {},
   "source": [
    "# JSON with Python"
   ]
  },
  {
   "cell_type": "code",
   "execution_count": 1,
   "id": "5bbf5856",
   "metadata": {},
   "outputs": [],
   "source": [
    "import numpy as np\n",
    "from pandas import Series, DataFrame\n",
    "import pandas as pd"
   ]
  },
  {
   "cell_type": "code",
   "execution_count": 2,
   "id": "607fdca2",
   "metadata": {},
   "outputs": [],
   "source": [
    "json_obj = \"\"\"\n",
    "{\n",
    "    \"zoo_animal\":\"Lion\",\n",
    "    \"food\":[\"Meat\",\"Veggies\",\"Honey\"],\n",
    "    \"fur\":\"Golden\",\n",
    "    \"clothes\":null,\n",
    "    \"diet\":[{ \"zoo_animal\":\"Gazelle\",\"food\":\"grass\",\"fur\":\"Brown\"}]\n",
    "}\n",
    "\"\"\""
   ]
  },
  {
   "cell_type": "code",
   "execution_count": 3,
   "id": "8e80e83d",
   "metadata": {},
   "outputs": [],
   "source": [
    "import json"
   ]
  },
  {
   "cell_type": "code",
   "execution_count": 4,
   "id": "63e1241d",
   "metadata": {},
   "outputs": [
    {
     "data": {
      "text/plain": [
       "{'zoo_animal': 'Lion',\n",
       " 'food': ['Meat', 'Veggies', 'Honey'],\n",
       " 'fur': 'Golden',\n",
       " 'clothes': None,\n",
       " 'diet': [{'zoo_animal': 'Gazelle', 'food': 'grass', 'fur': 'Brown'}]}"
      ]
     },
     "execution_count": 4,
     "metadata": {},
     "output_type": "execute_result"
    }
   ],
   "source": [
    "data = json.loads(json_obj)\n",
    "data"
   ]
  },
  {
   "cell_type": "markdown",
   "id": "a840c02f",
   "metadata": {},
   "source": [
    "## Convertir en un formato estándar"
   ]
  },
  {
   "cell_type": "code",
   "execution_count": 7,
   "id": "99ae2120",
   "metadata": {},
   "outputs": [
    {
     "data": {
      "text/plain": [
       "'{\"zoo_animal\": \"Lion\", \"food\": [\"Meat\", \"Veggies\", \"Honey\"], \"fur\": \"Golden\", \"clothes\": null, \"diet\": [{\"zoo_animal\": \"Gazelle\", \"food\": \"grass\", \"fur\": \"Brown\"}]}'"
      ]
     },
     "execution_count": 7,
     "metadata": {},
     "output_type": "execute_result"
    }
   ],
   "source": [
    "json.dumps(data)"
   ]
  },
  {
   "cell_type": "code",
   "execution_count": 8,
   "id": "fd05bf06",
   "metadata": {},
   "outputs": [
    {
     "data": {
      "text/html": [
       "<div>\n",
       "<style scoped>\n",
       "    .dataframe tbody tr th:only-of-type {\n",
       "        vertical-align: middle;\n",
       "    }\n",
       "\n",
       "    .dataframe tbody tr th {\n",
       "        vertical-align: top;\n",
       "    }\n",
       "\n",
       "    .dataframe thead th {\n",
       "        text-align: right;\n",
       "    }\n",
       "</style>\n",
       "<table border=\"1\" class=\"dataframe\">\n",
       "  <thead>\n",
       "    <tr style=\"text-align: right;\">\n",
       "      <th></th>\n",
       "      <th>zoo_animal</th>\n",
       "      <th>food</th>\n",
       "      <th>fur</th>\n",
       "    </tr>\n",
       "  </thead>\n",
       "  <tbody>\n",
       "    <tr>\n",
       "      <th>0</th>\n",
       "      <td>Gazelle</td>\n",
       "      <td>grass</td>\n",
       "      <td>Brown</td>\n",
       "    </tr>\n",
       "  </tbody>\n",
       "</table>\n",
       "</div>"
      ],
      "text/plain": [
       "  zoo_animal   food    fur\n",
       "0    Gazelle  grass  Brown"
      ]
     },
     "execution_count": 8,
     "metadata": {},
     "output_type": "execute_result"
    }
   ],
   "source": [
    "dataframe = DataFrame( data['diet'] )\n",
    "dataframe"
   ]
  }
 ],
 "metadata": {
  "kernelspec": {
   "display_name": "DataAnalystByJosePortilla",
   "language": "python",
   "name": "python3"
  },
  "language_info": {
   "codemirror_mode": {
    "name": "ipython",
    "version": 3
   },
   "file_extension": ".py",
   "mimetype": "text/x-python",
   "name": "python",
   "nbconvert_exporter": "python",
   "pygments_lexer": "ipython3",
   "version": "3.11.0"
  },
  "vscode": {
   "interpreter": {
    "hash": "53f4312468d2ae6e3ddf3b9e0f52f9fed925e7422b9dff2cb33b390fa7eac90b"
   }
  }
 },
 "nbformat": 4,
 "nbformat_minor": 5
}
