{
 "cells": [
  {
   "cell_type": "markdown",
   "id": "c6a3740f",
   "metadata": {},
   "source": [
    "# Universal Array Functions"
   ]
  },
  {
   "cell_type": "code",
   "execution_count": 1,
   "id": "55d6cb0a",
   "metadata": {},
   "outputs": [],
   "source": [
    "import numpy as np"
   ]
  },
  {
   "cell_type": "code",
   "execution_count": 2,
   "id": "c1b32034",
   "metadata": {},
   "outputs": [
    {
     "data": {
      "text/plain": [
       "array([ 0,  1,  2,  3,  4,  5,  6,  7,  8,  9, 10])"
      ]
     },
     "execution_count": 2,
     "metadata": {},
     "output_type": "execute_result"
    }
   ],
   "source": [
    "arr = np.arange(11)\n",
    "arr"
   ]
  },
  {
   "cell_type": "markdown",
   "id": "3f95e6df",
   "metadata": {},
   "source": [
    "## Functions"
   ]
  },
  {
   "cell_type": "markdown",
   "id": "ed270f5c",
   "metadata": {},
   "source": [
    "1. SQRT (Raíz cuadrada en cada elemento/scalar)"
   ]
  },
  {
   "cell_type": "code",
   "execution_count": 3,
   "id": "a08eab95",
   "metadata": {
    "scrolled": false
   },
   "outputs": [
    {
     "data": {
      "text/plain": [
       "array([0.        , 1.        , 1.41421356, 1.73205081, 2.        ,\n",
       "       2.23606798, 2.44948974, 2.64575131, 2.82842712, 3.        ,\n",
       "       3.16227766])"
      ]
     },
     "execution_count": 3,
     "metadata": {},
     "output_type": "execute_result"
    }
   ],
   "source": [
    "np.sqrt(arr)"
   ]
  },
  {
   "cell_type": "markdown",
   "id": "f2af7baf",
   "metadata": {},
   "source": [
    "2. Exponential (Exponencial en cada elemento(scalar))"
   ]
  },
  {
   "cell_type": "code",
   "execution_count": 4,
   "id": "c7c40d82",
   "metadata": {},
   "outputs": [
    {
     "data": {
      "text/plain": [
       "array([1.00000000e+00, 2.71828183e+00, 7.38905610e+00, 2.00855369e+01,\n",
       "       5.45981500e+01, 1.48413159e+02, 4.03428793e+02, 1.09663316e+03,\n",
       "       2.98095799e+03, 8.10308393e+03, 2.20264658e+04])"
      ]
     },
     "execution_count": 4,
     "metadata": {},
     "output_type": "execute_result"
    }
   ],
   "source": [
    "np.exp(arr)"
   ]
  },
  {
   "cell_type": "markdown",
   "id": "819b7f75",
   "metadata": {},
   "source": [
    "3. Random (Números aleatorios)"
   ]
  },
  {
   "cell_type": "markdown",
   "id": "6689151a",
   "metadata": {},
   "source": [
    "randn : Random Normal Distribution"
   ]
  },
  {
   "cell_type": "code",
   "execution_count": 5,
   "id": "07026ab3",
   "metadata": {},
   "outputs": [
    {
     "data": {
      "text/plain": [
       "array([ 1.40016499,  0.21478665, -1.31536692, -1.50258447,  0.20510851,\n",
       "        0.21126433, -0.99614666,  0.62726172, -0.38684519,  0.43022697])"
      ]
     },
     "execution_count": 5,
     "metadata": {},
     "output_type": "execute_result"
    }
   ],
   "source": [
    "A = np.random.randn(10)\n",
    "A"
   ]
  },
  {
   "cell_type": "code",
   "execution_count": 7,
   "id": "d0247ae8",
   "metadata": {},
   "outputs": [
    {
     "data": {
      "text/plain": [
       "array([-0.32882723, -0.71010834,  2.21753991,  0.20139928,  0.21599   ,\n",
       "       -0.1202773 , -0.07886624,  0.05493493, -0.93647604, -1.30897677])"
      ]
     },
     "execution_count": 7,
     "metadata": {},
     "output_type": "execute_result"
    }
   ],
   "source": [
    "B = np.random.randn(10)\n",
    "B"
   ]
  },
  {
   "cell_type": "markdown",
   "id": "c1c1c9fd",
   "metadata": {},
   "source": [
    "4. Binary Function"
   ]
  },
  {
   "cell_type": "code",
   "execution_count": 8,
   "id": "f801b338",
   "metadata": {},
   "outputs": [
    {
     "data": {
      "text/plain": [
       "array([ 1.07133776, -0.49532168,  0.90217298, -1.30118518,  0.42109852,\n",
       "        0.09098702, -1.0750129 ,  0.68219665, -1.32332123, -0.8787498 ])"
      ]
     },
     "execution_count": 8,
     "metadata": {},
     "output_type": "execute_result"
    }
   ],
   "source": [
    "np.add(A,B)"
   ]
  },
  {
   "cell_type": "code",
   "execution_count": 9,
   "id": "1675c099",
   "metadata": {},
   "outputs": [
    {
     "data": {
      "text/plain": [
       "array([ 1.40016499,  0.21478665,  2.21753991,  0.20139928,  0.21599   ,\n",
       "        0.21126433, -0.07886624,  0.62726172, -0.38684519,  0.43022697])"
      ]
     },
     "execution_count": 9,
     "metadata": {},
     "output_type": "execute_result"
    }
   ],
   "source": [
    "np.maximum(A,B)"
   ]
  },
  {
   "cell_type": "markdown",
   "id": "1277a96b",
   "metadata": {},
   "source": [
    "Website"
   ]
  },
  {
   "cell_type": "code",
   "execution_count": 2,
   "id": "93b77c20",
   "metadata": {},
   "outputs": [],
   "source": [
    "website = \"https://numpy.org/doc/stable/reference/ufuncs.html#available-ufuncs\""
   ]
  },
  {
   "cell_type": "code",
   "execution_count": 1,
   "id": "5f5fe0d3",
   "metadata": {},
   "outputs": [],
   "source": [
    "import webbrowser"
   ]
  },
  {
   "cell_type": "code",
   "execution_count": 3,
   "id": "6b34b00f",
   "metadata": {},
   "outputs": [
    {
     "data": {
      "text/plain": [
       "True"
      ]
     },
     "execution_count": 3,
     "metadata": {},
     "output_type": "execute_result"
    },
    {
     "name": "stderr",
     "output_type": "stream",
     "text": [
      "\n",
      "(brave:10818): Gtk-WARNING **: 22:47:53.602: Theme parsing error: gtk.css:1413:23: 'font-feature-settings' is not a valid property name\n",
      "\n",
      "(brave:10818): Gtk-WARNING **: 22:47:53.606: Theme parsing error: gtk.css:3286:25: 'font-feature-settings' is not a valid property name\n",
      "\n",
      "(brave:10818): Gtk-WARNING **: 22:47:53.607: Theme parsing error: gtk.css:3748:23: 'font-feature-settings' is not a valid property name\n",
      "Gtk-Message: 22:47:53.641: Failed to load module \"canberra-gtk-module\"\n",
      "Gtk-Message: 22:47:53.642: Failed to load module \"canberra-gtk-module\"\n"
     ]
    },
    {
     "name": "stdout",
     "output_type": "stream",
     "text": [
      "Opening in existing browser session.\n"
     ]
    }
   ],
   "source": [
    "webbrowser.open( website )"
   ]
  },
  {
   "cell_type": "code",
   "execution_count": null,
   "id": "090c862c",
   "metadata": {},
   "outputs": [],
   "source": []
  }
 ],
 "metadata": {
  "kernelspec": {
   "display_name": "Python 3 (ipykernel)",
   "language": "python",
   "name": "python3"
  },
  "language_info": {
   "codemirror_mode": {
    "name": "ipython",
    "version": 3
   },
   "file_extension": ".py",
   "mimetype": "text/x-python",
   "name": "python",
   "nbconvert_exporter": "python",
   "pygments_lexer": "ipython3",
   "version": "3.11.0"
  }
 },
 "nbformat": 4,
 "nbformat_minor": 5
}
