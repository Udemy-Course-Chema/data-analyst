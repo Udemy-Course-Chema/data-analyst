{
 "cells": [
  {
   "cell_type": "markdown",
   "id": "e37aa159",
   "metadata": {},
   "source": [
    "# Pandas\n",
    "\n",
    "It is a module for analyzing data. "
   ]
  },
  {
   "cell_type": "markdown",
   "id": "3be58386",
   "metadata": {},
   "source": [
    "## Series"
   ]
  },
  {
   "cell_type": "markdown",
   "id": "e11621a3",
   "metadata": {},
   "source": [
    "A series is more like an array in Numpy except it has data labels and it's indexed.\n",
    "And more like \"dictionary\" to python. "
   ]
  },
  {
   "cell_type": "code",
   "execution_count": 2,
   "id": "4bf1caff",
   "metadata": {},
   "outputs": [],
   "source": [
    "import numpy as np\n",
    "import pandas as pd\n",
    "from pandas import Series, DataFrame"
   ]
  },
  {
   "cell_type": "code",
   "execution_count": 3,
   "id": "595378c0",
   "metadata": {},
   "outputs": [
    {
     "data": {
      "text/plain": [
       "0     3\n",
       "1     6\n",
       "2     9\n",
       "3    12\n",
       "dtype: int64"
      ]
     },
     "execution_count": 3,
     "metadata": {},
     "output_type": "execute_result"
    }
   ],
   "source": [
    "objSeries = Series( [3,6,9,12] )\n",
    "objSeries"
   ]
  },
  {
   "cell_type": "code",
   "execution_count": 5,
   "id": "30d31cb9",
   "metadata": {},
   "outputs": [
    {
     "data": {
      "text/plain": [
       "array([ 3,  6,  9, 12])"
      ]
     },
     "execution_count": 5,
     "metadata": {},
     "output_type": "execute_result"
    }
   ],
   "source": [
    "objSeries.values"
   ]
  },
  {
   "cell_type": "code",
   "execution_count": 6,
   "id": "54840680",
   "metadata": {},
   "outputs": [
    {
     "data": {
      "text/plain": [
       "RangeIndex(start=0, stop=4, step=1)"
      ]
     },
     "execution_count": 6,
     "metadata": {},
     "output_type": "execute_result"
    }
   ],
   "source": [
    "objSeries.index"
   ]
  },
  {
   "cell_type": "code",
   "execution_count": 7,
   "id": "a819c097",
   "metadata": {},
   "outputs": [
    {
     "data": {
      "text/plain": [
       "Pineapple    100\n",
       "Apple        200\n",
       "Grape        300\n",
       "Cherry       400\n",
       "Banana       500\n",
       "dtype: int64"
      ]
     },
     "execution_count": 7,
     "metadata": {},
     "output_type": "execute_result"
    }
   ],
   "source": [
    "fruitsNumber = Series( [100,200,300,400,500], index=['Pineapple','Apple','Grape', 'Cherry','Banana'] )\n",
    "fruitsNumber"
   ]
  },
  {
   "cell_type": "code",
   "execution_count": 8,
   "id": "196d27b0",
   "metadata": {},
   "outputs": [
    {
     "data": {
      "text/plain": [
       "500"
      ]
     },
     "execution_count": 8,
     "metadata": {},
     "output_type": "execute_result"
    }
   ],
   "source": [
    "fruitsNumber['Banana']"
   ]
  },
  {
   "cell_type": "code",
   "execution_count": 9,
   "id": "e9477230",
   "metadata": {},
   "outputs": [
    {
     "data": {
      "text/plain": [
       "Grape     300\n",
       "Cherry    400\n",
       "Banana    500\n",
       "dtype: int64"
      ]
     },
     "execution_count": 9,
     "metadata": {},
     "output_type": "execute_result"
    }
   ],
   "source": [
    "# Check which Fruits is greater than 200\n",
    "fruitsNumber[ fruitsNumber > 200 ]"
   ]
  },
  {
   "cell_type": "code",
   "execution_count": 11,
   "id": "4f95c6f8",
   "metadata": {},
   "outputs": [
    {
     "data": {
      "text/plain": [
       "True"
      ]
     },
     "execution_count": 11,
     "metadata": {},
     "output_type": "execute_result"
    }
   ],
   "source": [
    "'Grape' in fruitsNumber"
   ]
  },
  {
   "cell_type": "markdown",
   "id": "c12cb62b",
   "metadata": {},
   "source": [
    "Convert Series to Dictionary"
   ]
  },
  {
   "cell_type": "code",
   "execution_count": 12,
   "id": "0810109d",
   "metadata": {},
   "outputs": [
    {
     "data": {
      "text/plain": [
       "{'Pineapple': 100, 'Apple': 200, 'Grape': 300, 'Cherry': 400, 'Banana': 500}"
      ]
     },
     "execution_count": 12,
     "metadata": {},
     "output_type": "execute_result"
    }
   ],
   "source": [
    "fruitsNumber_dict = fruitsNumber.to_dict()\n",
    "fruitsNumber_dict"
   ]
  },
  {
   "cell_type": "markdown",
   "id": "09f5d6c5",
   "metadata": {},
   "source": [
    "Convert Dictionary to Series"
   ]
  },
  {
   "cell_type": "code",
   "execution_count": 13,
   "id": "a6e3c31d",
   "metadata": {},
   "outputs": [
    {
     "data": {
      "text/plain": [
       "Pineapple    100\n",
       "Apple        200\n",
       "Grape        300\n",
       "Cherry       400\n",
       "Banana       500\n",
       "dtype: int64"
      ]
     },
     "execution_count": 13,
     "metadata": {},
     "output_type": "execute_result"
    }
   ],
   "source": [
    "fruits_series = Series( fruitsNumber_dict )\n",
    "fruits_series"
   ]
  },
  {
   "cell_type": "markdown",
   "id": "d0012efd",
   "metadata": {},
   "source": [
    "Convert Dictionary to Series in an another way. "
   ]
  },
  {
   "cell_type": "code",
   "execution_count": 14,
   "id": "cd54790b",
   "metadata": {},
   "outputs": [],
   "source": [
    "others_fruits = [ 'Mango','Avocato','Cherry', 'Grape']"
   ]
  },
  {
   "cell_type": "code",
   "execution_count": 15,
   "id": "f10271f6",
   "metadata": {},
   "outputs": [
    {
     "data": {
      "text/plain": [
       "Mango        NaN\n",
       "Avocato      NaN\n",
       "Cherry     400.0\n",
       "Grape      300.0\n",
       "dtype: float64"
      ]
     },
     "execution_count": 15,
     "metadata": {},
     "output_type": "execute_result"
    }
   ],
   "source": [
    "fruitsObj2 = Series( fruitsNumber_dict, index=others_fruits )\n",
    "fruitsObj2"
   ]
  },
  {
   "cell_type": "markdown",
   "id": "d71b1cd3",
   "metadata": {},
   "source": [
    "Verificar si existen nulos(campos vacíos)"
   ]
  },
  {
   "cell_type": "code",
   "execution_count": 16,
   "id": "f0803f70",
   "metadata": {
    "scrolled": true
   },
   "outputs": [
    {
     "data": {
      "text/plain": [
       "Mango       True\n",
       "Avocato     True\n",
       "Cherry     False\n",
       "Grape      False\n",
       "dtype: bool"
      ]
     },
     "execution_count": 16,
     "metadata": {},
     "output_type": "execute_result"
    }
   ],
   "source": [
    "pd.isnull(fruitsObj2)"
   ]
  },
  {
   "cell_type": "markdown",
   "id": "ba8d220e",
   "metadata": {},
   "source": [
    "Verificar campos que no son vacíos. "
   ]
  },
  {
   "cell_type": "code",
   "execution_count": 17,
   "id": "92ba2539",
   "metadata": {
    "scrolled": true
   },
   "outputs": [
    {
     "data": {
      "text/plain": [
       "Mango      False\n",
       "Avocato    False\n",
       "Cherry      True\n",
       "Grape       True\n",
       "dtype: bool"
      ]
     },
     "execution_count": 17,
     "metadata": {},
     "output_type": "execute_result"
    }
   ],
   "source": [
    "pd.notnull(fruitsObj2)"
   ]
  },
  {
   "cell_type": "code",
   "execution_count": 18,
   "id": "df9f15da",
   "metadata": {},
   "outputs": [
    {
     "data": {
      "text/plain": [
       "Apple          NaN\n",
       "Avocato        NaN\n",
       "Banana         NaN\n",
       "Cherry       800.0\n",
       "Grape        600.0\n",
       "Mango          NaN\n",
       "Pineapple      NaN\n",
       "dtype: float64"
      ]
     },
     "execution_count": 18,
     "metadata": {},
     "output_type": "execute_result"
    }
   ],
   "source": [
    "fruitsNumber + fruitsObj2"
   ]
  },
  {
   "cell_type": "code",
   "execution_count": 19,
   "id": "1b4adc1b",
   "metadata": {},
   "outputs": [],
   "source": [
    "fruitsObj2.name = \"Estadísticas de las frutas\""
   ]
  },
  {
   "cell_type": "code",
   "execution_count": 20,
   "id": "3a6e532c",
   "metadata": {},
   "outputs": [
    {
     "data": {
      "text/plain": [
       "Mango        NaN\n",
       "Avocato      NaN\n",
       "Cherry     400.0\n",
       "Grape      300.0\n",
       "Name: Estadísticas de las frutas, dtype: float64"
      ]
     },
     "execution_count": 20,
     "metadata": {},
     "output_type": "execute_result"
    }
   ],
   "source": [
    "fruitsObj2"
   ]
  },
  {
   "cell_type": "code",
   "execution_count": 22,
   "id": "554ab47f",
   "metadata": {},
   "outputs": [
    {
     "data": {
      "text/plain": [
       "Estadísticas de las frutas 2\n",
       "Mango        NaN\n",
       "Avocato      NaN\n",
       "Cherry     400.0\n",
       "Grape      300.0\n",
       "Name: Estadísticas de las frutas, dtype: float64"
      ]
     },
     "execution_count": 22,
     "metadata": {},
     "output_type": "execute_result"
    }
   ],
   "source": [
    "fruitsObj2.index.name = \"Estadísticas de las frutas 2\"\n",
    "fruitsObj2"
   ]
  },
  {
   "cell_type": "code",
   "execution_count": null,
   "id": "e87d2ada",
   "metadata": {},
   "outputs": [],
   "source": []
  }
 ],
 "metadata": {
  "kernelspec": {
   "display_name": "Python 3 (ipykernel)",
   "language": "python",
   "name": "python3"
  },
  "language_info": {
   "codemirror_mode": {
    "name": "ipython",
    "version": 3
   },
   "file_extension": ".py",
   "mimetype": "text/x-python",
   "name": "python",
   "nbconvert_exporter": "python",
   "pygments_lexer": "ipython3",
   "version": "3.11.0"
  }
 },
 "nbformat": 4,
 "nbformat_minor": 5
}
