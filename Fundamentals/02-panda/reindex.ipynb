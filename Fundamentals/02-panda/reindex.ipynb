{
 "cells": [
  {
   "cell_type": "markdown",
   "id": "cbb665fa",
   "metadata": {},
   "source": [
    "# Reindex"
   ]
  },
  {
   "cell_type": "code",
   "execution_count": 1,
   "id": "8a7e3db7",
   "metadata": {},
   "outputs": [],
   "source": [
    "import numpy as np\n",
    "from pandas import Series, DataFrame\n",
    "import pandas as pd\n",
    "\n",
    "from numpy.random import randn"
   ]
  },
  {
   "cell_type": "code",
   "execution_count": 2,
   "id": "69201fd0",
   "metadata": {},
   "outputs": [
    {
     "data": {
      "text/plain": [
       "A    1\n",
       "B    2\n",
       "C    3\n",
       "D    4\n",
       "dtype: int64"
      ]
     },
     "execution_count": 2,
     "metadata": {},
     "output_type": "execute_result"
    }
   ],
   "source": [
    "ser1 = Series([1,2,3,4], index=['A','B','C','D'])\n",
    "ser1"
   ]
  },
  {
   "cell_type": "code",
   "execution_count": 5,
   "id": "6acea0ed",
   "metadata": {},
   "outputs": [
    {
     "data": {
      "text/plain": [
       "A    1.0\n",
       "B    2.0\n",
       "C    3.0\n",
       "D    4.0\n",
       "E    NaN\n",
       "F    NaN\n",
       "dtype: float64"
      ]
     },
     "execution_count": 5,
     "metadata": {},
     "output_type": "execute_result"
    }
   ],
   "source": [
    "ser2 = ser1.reindex(['A','B','C','D','E','F'])\n",
    "ser2"
   ]
  },
  {
   "cell_type": "code",
   "execution_count": 6,
   "id": "9366d4b4",
   "metadata": {},
   "outputs": [
    {
     "data": {
      "text/plain": [
       "A    1.0\n",
       "B    2.0\n",
       "C    3.0\n",
       "D    4.0\n",
       "E    NaN\n",
       "F    NaN\n",
       "G    0.0\n",
       "dtype: float64"
      ]
     },
     "execution_count": 6,
     "metadata": {},
     "output_type": "execute_result"
    }
   ],
   "source": [
    "ser2.reindex(['A','B','C','D','E','F','G'], fill_value=0 )"
   ]
  },
  {
   "cell_type": "code",
   "execution_count": 7,
   "id": "baf244fe",
   "metadata": {},
   "outputs": [
    {
     "data": {
      "text/plain": [
       "0        USA\n",
       "5     Mexico\n",
       "10    Canada\n",
       "dtype: object"
      ]
     },
     "execution_count": 7,
     "metadata": {},
     "output_type": "execute_result"
    }
   ],
   "source": [
    "ser3 = Series(['USA','Mexico','Canada'], index=[0,5,10])\n",
    "ser3"
   ]
  },
  {
   "cell_type": "code",
   "execution_count": 8,
   "id": "7b5e76b8",
   "metadata": {},
   "outputs": [
    {
     "data": {
      "text/plain": [
       "range(0, 15)"
      ]
     },
     "execution_count": 8,
     "metadata": {},
     "output_type": "execute_result"
    }
   ],
   "source": [
    "ranger = range(15)\n",
    "ranger"
   ]
  },
  {
   "cell_type": "code",
   "execution_count": 9,
   "id": "37be1d40",
   "metadata": {},
   "outputs": [
    {
     "data": {
      "text/plain": [
       "0        USA\n",
       "1        USA\n",
       "2        USA\n",
       "3        USA\n",
       "4        USA\n",
       "5     Mexico\n",
       "6     Mexico\n",
       "7     Mexico\n",
       "8     Mexico\n",
       "9     Mexico\n",
       "10    Canada\n",
       "11    Canada\n",
       "12    Canada\n",
       "13    Canada\n",
       "14    Canada\n",
       "dtype: object"
      ]
     },
     "execution_count": 9,
     "metadata": {},
     "output_type": "execute_result"
    }
   ],
   "source": [
    "ser3.reindex(ranger, method='ffill')"
   ]
  },
  {
   "cell_type": "code",
   "execution_count": 13,
   "id": "0683a2df",
   "metadata": {},
   "outputs": [
    {
     "data": {
      "text/html": [
       "<div>\n",
       "<style scoped>\n",
       "    .dataframe tbody tr th:only-of-type {\n",
       "        vertical-align: middle;\n",
       "    }\n",
       "\n",
       "    .dataframe tbody tr th {\n",
       "        vertical-align: top;\n",
       "    }\n",
       "\n",
       "    .dataframe thead th {\n",
       "        text-align: right;\n",
       "    }\n",
       "</style>\n",
       "<table border=\"1\" class=\"dataframe\">\n",
       "  <thead>\n",
       "    <tr style=\"text-align: right;\">\n",
       "      <th></th>\n",
       "      <th>col1</th>\n",
       "      <th>col2</th>\n",
       "      <th>col3</th>\n",
       "      <th>col4</th>\n",
       "      <th>col5</th>\n",
       "    </tr>\n",
       "  </thead>\n",
       "  <tbody>\n",
       "    <tr>\n",
       "      <th>A</th>\n",
       "      <td>-1.565836</td>\n",
       "      <td>0.357576</td>\n",
       "      <td>0.723608</td>\n",
       "      <td>0.049746</td>\n",
       "      <td>-0.477290</td>\n",
       "    </tr>\n",
       "    <tr>\n",
       "      <th>B</th>\n",
       "      <td>0.897490</td>\n",
       "      <td>0.753867</td>\n",
       "      <td>0.128493</td>\n",
       "      <td>2.880011</td>\n",
       "      <td>-1.514240</td>\n",
       "    </tr>\n",
       "    <tr>\n",
       "      <th>D</th>\n",
       "      <td>-0.035902</td>\n",
       "      <td>-1.215043</td>\n",
       "      <td>0.277457</td>\n",
       "      <td>-0.999312</td>\n",
       "      <td>-1.302269</td>\n",
       "    </tr>\n",
       "    <tr>\n",
       "      <th>E</th>\n",
       "      <td>0.346666</td>\n",
       "      <td>-0.206496</td>\n",
       "      <td>2.234565</td>\n",
       "      <td>0.038481</td>\n",
       "      <td>1.540167</td>\n",
       "    </tr>\n",
       "    <tr>\n",
       "      <th>F</th>\n",
       "      <td>0.909956</td>\n",
       "      <td>0.018725</td>\n",
       "      <td>-0.923643</td>\n",
       "      <td>-2.124027</td>\n",
       "      <td>-0.016154</td>\n",
       "    </tr>\n",
       "  </tbody>\n",
       "</table>\n",
       "</div>"
      ],
      "text/plain": [
       "       col1      col2      col3      col4      col5\n",
       "A -1.565836  0.357576  0.723608  0.049746 -0.477290\n",
       "B  0.897490  0.753867  0.128493  2.880011 -1.514240\n",
       "D -0.035902 -1.215043  0.277457 -0.999312 -1.302269\n",
       "E  0.346666 -0.206496  2.234565  0.038481  1.540167\n",
       "F  0.909956  0.018725 -0.923643 -2.124027 -0.016154"
      ]
     },
     "execution_count": 13,
     "metadata": {},
     "output_type": "execute_result"
    }
   ],
   "source": [
    "dframe = DataFrame(randn(25).reshape((5,5)), index = ['A','B','D','E','F'],\n",
    "                                    columns = [ 'col1','col2','col3','col4','col5' ] )\n",
    "dframe"
   ]
  },
  {
   "cell_type": "code",
   "execution_count": 14,
   "id": "c6ee62d7",
   "metadata": {},
   "outputs": [
    {
     "data": {
      "text/html": [
       "<div>\n",
       "<style scoped>\n",
       "    .dataframe tbody tr th:only-of-type {\n",
       "        vertical-align: middle;\n",
       "    }\n",
       "\n",
       "    .dataframe tbody tr th {\n",
       "        vertical-align: top;\n",
       "    }\n",
       "\n",
       "    .dataframe thead th {\n",
       "        text-align: right;\n",
       "    }\n",
       "</style>\n",
       "<table border=\"1\" class=\"dataframe\">\n",
       "  <thead>\n",
       "    <tr style=\"text-align: right;\">\n",
       "      <th></th>\n",
       "      <th>col1</th>\n",
       "      <th>col2</th>\n",
       "      <th>col3</th>\n",
       "      <th>col4</th>\n",
       "      <th>col5</th>\n",
       "    </tr>\n",
       "  </thead>\n",
       "  <tbody>\n",
       "    <tr>\n",
       "      <th>A</th>\n",
       "      <td>-1.565836</td>\n",
       "      <td>0.357576</td>\n",
       "      <td>0.723608</td>\n",
       "      <td>0.049746</td>\n",
       "      <td>-0.477290</td>\n",
       "    </tr>\n",
       "    <tr>\n",
       "      <th>B</th>\n",
       "      <td>0.897490</td>\n",
       "      <td>0.753867</td>\n",
       "      <td>0.128493</td>\n",
       "      <td>2.880011</td>\n",
       "      <td>-1.514240</td>\n",
       "    </tr>\n",
       "    <tr>\n",
       "      <th>C</th>\n",
       "      <td>NaN</td>\n",
       "      <td>NaN</td>\n",
       "      <td>NaN</td>\n",
       "      <td>NaN</td>\n",
       "      <td>NaN</td>\n",
       "    </tr>\n",
       "    <tr>\n",
       "      <th>D</th>\n",
       "      <td>-0.035902</td>\n",
       "      <td>-1.215043</td>\n",
       "      <td>0.277457</td>\n",
       "      <td>-0.999312</td>\n",
       "      <td>-1.302269</td>\n",
       "    </tr>\n",
       "    <tr>\n",
       "      <th>E</th>\n",
       "      <td>0.346666</td>\n",
       "      <td>-0.206496</td>\n",
       "      <td>2.234565</td>\n",
       "      <td>0.038481</td>\n",
       "      <td>1.540167</td>\n",
       "    </tr>\n",
       "  </tbody>\n",
       "</table>\n",
       "</div>"
      ],
      "text/plain": [
       "       col1      col2      col3      col4      col5\n",
       "A -1.565836  0.357576  0.723608  0.049746 -0.477290\n",
       "B  0.897490  0.753867  0.128493  2.880011 -1.514240\n",
       "C       NaN       NaN       NaN       NaN       NaN\n",
       "D -0.035902 -1.215043  0.277457 -0.999312 -1.302269\n",
       "E  0.346666 -0.206496  2.234565  0.038481  1.540167"
      ]
     },
     "execution_count": 14,
     "metadata": {},
     "output_type": "execute_result"
    }
   ],
   "source": [
    "dframe2 = dframe.reindex(['A','B','C','D','E'])\n",
    "dframe2"
   ]
  },
  {
   "cell_type": "code",
   "execution_count": 26,
   "id": "615b307c",
   "metadata": {},
   "outputs": [],
   "source": [
    "new_columns = ['col1','col2','col3','col4','col5','col6']\n",
    "new_columns2 = ['col1','col2','col3','col4','col5']"
   ]
  },
  {
   "cell_type": "code",
   "execution_count": 16,
   "id": "d495df4e",
   "metadata": {},
   "outputs": [
    {
     "data": {
      "text/html": [
       "<div>\n",
       "<style scoped>\n",
       "    .dataframe tbody tr th:only-of-type {\n",
       "        vertical-align: middle;\n",
       "    }\n",
       "\n",
       "    .dataframe tbody tr th {\n",
       "        vertical-align: top;\n",
       "    }\n",
       "\n",
       "    .dataframe thead th {\n",
       "        text-align: right;\n",
       "    }\n",
       "</style>\n",
       "<table border=\"1\" class=\"dataframe\">\n",
       "  <thead>\n",
       "    <tr style=\"text-align: right;\">\n",
       "      <th></th>\n",
       "      <th>col1</th>\n",
       "      <th>col2</th>\n",
       "      <th>col3</th>\n",
       "      <th>col4</th>\n",
       "      <th>col5</th>\n",
       "      <th>col6</th>\n",
       "    </tr>\n",
       "  </thead>\n",
       "  <tbody>\n",
       "    <tr>\n",
       "      <th>A</th>\n",
       "      <td>-1.565836</td>\n",
       "      <td>0.357576</td>\n",
       "      <td>0.723608</td>\n",
       "      <td>0.049746</td>\n",
       "      <td>-0.477290</td>\n",
       "      <td>NaN</td>\n",
       "    </tr>\n",
       "    <tr>\n",
       "      <th>B</th>\n",
       "      <td>0.897490</td>\n",
       "      <td>0.753867</td>\n",
       "      <td>0.128493</td>\n",
       "      <td>2.880011</td>\n",
       "      <td>-1.514240</td>\n",
       "      <td>NaN</td>\n",
       "    </tr>\n",
       "    <tr>\n",
       "      <th>C</th>\n",
       "      <td>NaN</td>\n",
       "      <td>NaN</td>\n",
       "      <td>NaN</td>\n",
       "      <td>NaN</td>\n",
       "      <td>NaN</td>\n",
       "      <td>NaN</td>\n",
       "    </tr>\n",
       "    <tr>\n",
       "      <th>D</th>\n",
       "      <td>-0.035902</td>\n",
       "      <td>-1.215043</td>\n",
       "      <td>0.277457</td>\n",
       "      <td>-0.999312</td>\n",
       "      <td>-1.302269</td>\n",
       "      <td>NaN</td>\n",
       "    </tr>\n",
       "    <tr>\n",
       "      <th>E</th>\n",
       "      <td>0.346666</td>\n",
       "      <td>-0.206496</td>\n",
       "      <td>2.234565</td>\n",
       "      <td>0.038481</td>\n",
       "      <td>1.540167</td>\n",
       "      <td>NaN</td>\n",
       "    </tr>\n",
       "  </tbody>\n",
       "</table>\n",
       "</div>"
      ],
      "text/plain": [
       "       col1      col2      col3      col4      col5  col6\n",
       "A -1.565836  0.357576  0.723608  0.049746 -0.477290   NaN\n",
       "B  0.897490  0.753867  0.128493  2.880011 -1.514240   NaN\n",
       "C       NaN       NaN       NaN       NaN       NaN   NaN\n",
       "D -0.035902 -1.215043  0.277457 -0.999312 -1.302269   NaN\n",
       "E  0.346666 -0.206496  2.234565  0.038481  1.540167   NaN"
      ]
     },
     "execution_count": 16,
     "metadata": {},
     "output_type": "execute_result"
    }
   ],
   "source": [
    "dframe2.reindex(columns=new_columns)"
   ]
  },
  {
   "cell_type": "code",
   "execution_count": 17,
   "id": "b4c827fc",
   "metadata": {},
   "outputs": [
    {
     "data": {
      "text/html": [
       "<div>\n",
       "<style scoped>\n",
       "    .dataframe tbody tr th:only-of-type {\n",
       "        vertical-align: middle;\n",
       "    }\n",
       "\n",
       "    .dataframe tbody tr th {\n",
       "        vertical-align: top;\n",
       "    }\n",
       "\n",
       "    .dataframe thead th {\n",
       "        text-align: right;\n",
       "    }\n",
       "</style>\n",
       "<table border=\"1\" class=\"dataframe\">\n",
       "  <thead>\n",
       "    <tr style=\"text-align: right;\">\n",
       "      <th></th>\n",
       "      <th>col1</th>\n",
       "      <th>col2</th>\n",
       "      <th>col3</th>\n",
       "      <th>col4</th>\n",
       "      <th>col5</th>\n",
       "    </tr>\n",
       "  </thead>\n",
       "  <tbody>\n",
       "    <tr>\n",
       "      <th>A</th>\n",
       "      <td>-1.565836</td>\n",
       "      <td>0.357576</td>\n",
       "      <td>0.723608</td>\n",
       "      <td>0.049746</td>\n",
       "      <td>-0.477290</td>\n",
       "    </tr>\n",
       "    <tr>\n",
       "      <th>B</th>\n",
       "      <td>0.897490</td>\n",
       "      <td>0.753867</td>\n",
       "      <td>0.128493</td>\n",
       "      <td>2.880011</td>\n",
       "      <td>-1.514240</td>\n",
       "    </tr>\n",
       "    <tr>\n",
       "      <th>D</th>\n",
       "      <td>-0.035902</td>\n",
       "      <td>-1.215043</td>\n",
       "      <td>0.277457</td>\n",
       "      <td>-0.999312</td>\n",
       "      <td>-1.302269</td>\n",
       "    </tr>\n",
       "    <tr>\n",
       "      <th>E</th>\n",
       "      <td>0.346666</td>\n",
       "      <td>-0.206496</td>\n",
       "      <td>2.234565</td>\n",
       "      <td>0.038481</td>\n",
       "      <td>1.540167</td>\n",
       "    </tr>\n",
       "    <tr>\n",
       "      <th>F</th>\n",
       "      <td>0.909956</td>\n",
       "      <td>0.018725</td>\n",
       "      <td>-0.923643</td>\n",
       "      <td>-2.124027</td>\n",
       "      <td>-0.016154</td>\n",
       "    </tr>\n",
       "  </tbody>\n",
       "</table>\n",
       "</div>"
      ],
      "text/plain": [
       "       col1      col2      col3      col4      col5\n",
       "A -1.565836  0.357576  0.723608  0.049746 -0.477290\n",
       "B  0.897490  0.753867  0.128493  2.880011 -1.514240\n",
       "D -0.035902 -1.215043  0.277457 -0.999312 -1.302269\n",
       "E  0.346666 -0.206496  2.234565  0.038481  1.540167\n",
       "F  0.909956  0.018725 -0.923643 -2.124027 -0.016154"
      ]
     },
     "execution_count": 17,
     "metadata": {},
     "output_type": "execute_result"
    }
   ],
   "source": [
    "dframe"
   ]
  },
  {
   "cell_type": "code",
   "execution_count": 27,
   "id": "a395d587",
   "metadata": {},
   "outputs": [
    {
     "data": {
      "text/html": [
       "<div>\n",
       "<style scoped>\n",
       "    .dataframe tbody tr th:only-of-type {\n",
       "        vertical-align: middle;\n",
       "    }\n",
       "\n",
       "    .dataframe tbody tr th {\n",
       "        vertical-align: top;\n",
       "    }\n",
       "\n",
       "    .dataframe thead th {\n",
       "        text-align: right;\n",
       "    }\n",
       "</style>\n",
       "<table border=\"1\" class=\"dataframe\">\n",
       "  <thead>\n",
       "    <tr style=\"text-align: right;\">\n",
       "      <th></th>\n",
       "      <th>col1</th>\n",
       "      <th>col2</th>\n",
       "      <th>col3</th>\n",
       "      <th>col4</th>\n",
       "      <th>col5</th>\n",
       "    </tr>\n",
       "  </thead>\n",
       "  <tbody>\n",
       "    <tr>\n",
       "      <th>A</th>\n",
       "      <td>-1.565836</td>\n",
       "      <td>0.357576</td>\n",
       "      <td>0.723608</td>\n",
       "      <td>0.049746</td>\n",
       "      <td>-0.477290</td>\n",
       "    </tr>\n",
       "    <tr>\n",
       "      <th>B</th>\n",
       "      <td>0.897490</td>\n",
       "      <td>0.753867</td>\n",
       "      <td>0.128493</td>\n",
       "      <td>2.880011</td>\n",
       "      <td>-1.514240</td>\n",
       "    </tr>\n",
       "    <tr>\n",
       "      <th>D</th>\n",
       "      <td>-0.035902</td>\n",
       "      <td>-1.215043</td>\n",
       "      <td>0.277457</td>\n",
       "      <td>-0.999312</td>\n",
       "      <td>-1.302269</td>\n",
       "    </tr>\n",
       "    <tr>\n",
       "      <th>E</th>\n",
       "      <td>0.346666</td>\n",
       "      <td>-0.206496</td>\n",
       "      <td>2.234565</td>\n",
       "      <td>0.038481</td>\n",
       "      <td>1.540167</td>\n",
       "    </tr>\n",
       "    <tr>\n",
       "      <th>F</th>\n",
       "      <td>0.909956</td>\n",
       "      <td>0.018725</td>\n",
       "      <td>-0.923643</td>\n",
       "      <td>-2.124027</td>\n",
       "      <td>-0.016154</td>\n",
       "    </tr>\n",
       "  </tbody>\n",
       "</table>\n",
       "</div>"
      ],
      "text/plain": [
       "       col1      col2      col3      col4      col5\n",
       "A -1.565836  0.357576  0.723608  0.049746 -0.477290\n",
       "B  0.897490  0.753867  0.128493  2.880011 -1.514240\n",
       "D -0.035902 -1.215043  0.277457 -0.999312 -1.302269\n",
       "E  0.346666 -0.206496  2.234565  0.038481  1.540167\n",
       "F  0.909956  0.018725 -0.923643 -2.124027 -0.016154"
      ]
     },
     "execution_count": 27,
     "metadata": {},
     "output_type": "execute_result"
    }
   ],
   "source": [
    "dframe.loc[ ['A','B','D','E','F'], new_columns2 ]"
   ]
  },
  {
   "cell_type": "code",
   "execution_count": null,
   "id": "4104422b",
   "metadata": {},
   "outputs": [],
   "source": []
  }
 ],
 "metadata": {
  "kernelspec": {
   "display_name": "Python 3 (ipykernel)",
   "language": "python",
   "name": "python3"
  },
  "language_info": {
   "codemirror_mode": {
    "name": "ipython",
    "version": 3
   },
   "file_extension": ".py",
   "mimetype": "text/x-python",
   "name": "python",
   "nbconvert_exporter": "python",
   "pygments_lexer": "ipython3",
   "version": "3.11.0"
  }
 },
 "nbformat": 4,
 "nbformat_minor": 5
}
